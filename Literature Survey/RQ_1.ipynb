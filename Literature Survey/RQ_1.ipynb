{
  "nbformat": 4,
  "nbformat_minor": 0,
  "metadata": {
    "colab": {
      "provenance": []
    },
    "kernelspec": {
      "name": "python3",
      "display_name": "Python 3"
    },
    "language_info": {
      "name": "python"
    }
  },
  "cells": [
    {
      "cell_type": "code",
      "execution_count": null,
      "metadata": {
        "id": "gd8r0exeaxhk"
      },
      "outputs": [],
      "source": []
    },
    {
      "cell_type": "markdown",
      "source": [
        "# RQ.1 What are the existing audio denoising methods?\n",
        "\n",
        "\n"
      ],
      "metadata": {
        "id": "PWkHU3Twa9Mj"
      }
    },
    {
      "cell_type": "markdown",
      "source": [
        "\n",
        "## 1. Weiner Filtering\n",
        "\n",
        "This method is found in the paper \"Consistent Wiener Filtering for Audio Source Separation\". The main aim of this technique is gather the statistical information about data and then estimate true noise/clean noise from observing the input.\n",
        "\n",
        "the working of this method is as follows:\n",
        "*   Assume y(t) = x(t) + n(t) where x(t) is the clean sound and n(t) is the noise, is taken as the input\n",
        "*   Then input which is in time domain is converted into frequency domain using techniques like Fast Fourir Transform (FFT) in the next step\n",
        "*   Once the audio is in frequenxy domain, power spectral density (PSD) is estimated of both noise input and clean sound then its passed to the wiener filter\n",
        "*   In this step wiener filter is designed, Wiener filter reduce mean squared error between the true sound and the estimated signal. \\\\\n",
        "H(f) = X(f) / (X(f) + N(f)) \\\\\n",
        "H(f) is the frequency-domain representation of wiener filter \\\\\n",
        "X(f) is the PSD of true sound \\\\\n",
        "N(f) is the PSD of noise\n",
        "*   After wiener filter process the estimated true sound X(f) is obtained by multiplying estimated noise N(f) with wiener filter H(f)\n",
        "*   At last, the inverse fourier transform (IFFT) is performed to convert the estimated true sound back into time domain. The output of IFFT, x(t) is the denoised sound\n",
        "\n",
        "\n",
        "## 2. Principal component analysis (PCA)\n",
        "\n",
        "This denoising technique is used in the paper \"An Improved Wavelet Denoising Algorithm Based on Principal Component Analysis\". PCA techniques requires both noisy sound input and clean sound. The disadvantage of PCA is when noise is complex or non-stationary but can be used as preprocessing step before other denoising techniques to improve the results.\n",
        "\n",
        "The procedure involved in PCA is as follows:\n",
        "*   At first, the input audio is converted into frequency domian by STFT\n",
        "*   Then PCA is applied on training part to get principal componenets which is direction of maximum variance\n",
        "*   When PCA is appiled, feature projection takes place where both noisy and clean audio samples is projected onto reduced-dimensional subspace after calculating its principal components\n",
        "*    In reduced dimensional subspace, denoising is done. one common approach is thresholding.\n",
        "*    After denoising, the output is converted back to original space by performing inverse PCA\n",
        "*    Then at last, inverse STFT is done to convert frequency domain to time domain. The resultant time domain output is the final denoised output.\n",
        "\n",
        "\n",
        "## 3. Wavelet transformation\n",
        "\n",
        "This techniques is obtained from the research paper \"Denoising of Fetal Phonocardiogram Signal by Wavelet Transformation\" This technique allows for a multi-resolution analysis of the signal, which means that it can capture both high-frequency and low-frequency components of the signal and noise so its effective.\n",
        "\n",
        "The working of this method is as follows:\n",
        "\n",
        "*   At first the wavelet tranform is done on the input sound to decompose it into different frequenct components. The wavelet transform helps to represent signal in both frquency and time domain.\n",
        "*   After decomposition, each frequency composition is analysed. then thresholding techniques are applied on each wavelet coefficient to remove/shrink the coefficients below certain threshold (attenuate noise while preserving the true sound)(with the assumption that noise often appears at small-amplitude coefficients, while important signal occurs at large components)\n",
        "*   Then the decomposed wavelets compositions are combined by performing inverse wavelet transform to get denoised PCG. The threshold levels are tuned to obtain desired level of clean audio sounds.\n",
        "\n",
        "\n",
        "## 4. Empirical mode decomposition (EMD)\n",
        "\n",
        "This method is referred from the research paper \"NOISE FILTERING USING EMPIRICAL MODE DECOMPOSITION\". This techniques is particularly used for analysing non-linear and non-stationary data. The main idea behind this method is to decompose the signal to main sets called Intrinsic Mode Functions (IMFs) and then capture different scales of variation wrt these IMFs. EMD can be used on non-stationary and complex data.\n",
        "\n",
        "The working of EMD is as follows:\n",
        "*   In the first step, EMD is performed on input sound to decompose it into IMFs\n",
        "*   In the next step the IMFs are analysed to find out which out it may contain noise (noisy IMFs exhibit high0frequency and random fluctuations.\n",
        "*   Then thresholding is applied on those noisy components to remove the noise to obtain the denoised IMFs\n",
        "*   At last, all the denoised IMFs are combined to get denoised audio. Quality assessment is done to ensure important features of signal are not removed and also noise is removed.\n",
        "\n",
        "\n",
        "## 5. Variational mode decomposition\n",
        "\n",
        "\n",
        "\"Intrinsic Mode Functions (IMFs) are the simple oscillatory functions obtained from the decomposing a signal. Each IMF captures a specific oscillatory mode present in the original data signal. When these IMFs are added together, along with the residue, they reconstruct the original data signal.\" (https://www.collimator.ai/reference-guides/what-is-empirical-mode-decomposition#:~:text=The%20Empirical%20Mode%20Decomposition%20process,in%20the%20original%20data%20signal.)\n",
        "\n",
        "Variational mode decomposition is similar to EDM. The main signal is decomposed into multiple parts called IMFs. In the IMFs, number of local extrema and zero crossings differ at most by 1. In this method, Hilbert transformation is used in the decompostion of the IMFs. \"VDM behaves like a Wiener Filter: It is like a low-narrowband filter that only passes a range of frequencies around a low center frequency. The central frequency w is nearly 0. Because of that we have a low Variation from the center frequency. Minimize bandwidth across center frequency for each mode. So we get Modes with a minimal Bandwidth. But the Sum of all modes must be the original Signal.\" The main parameter of VDM is K (number of IMFs)\n",
        "\n",
        "The steps involved in VMD is given below:\n",
        "\n",
        "*   calculate K value: In the first step, the parameter k is calculater. If K is too small then some infomation in the main signal may get lost or else if K is too big then IMFs may contain repeated infomation because central frequency of adjacent IMF will be similar\n",
        "*   decompose main signal into K number of IMFs: In this steps, decomposed IMFs frequencies are from low to high\n",
        "*   Energy analysis: The frequency spectrum is concentrated on the lower-order modes so signal energy is very large at the low-order components. and the signal Energy starts also from strong to weak, because the energy based on signal and noise behaves differently in the IMFs. So in this step, we search the point where the low-order energy drops rapidly. It is marked as the signal and noise boundary point\n",
        "*   wavelet thresholding: this is the last step and here, after boundary point is identified, that particular IMF is selected then the selected IMF is passed through threshold function to get denoised signal\n",
        "\n",
        "The limitations of VMD are:\n",
        "*   number of modes (frequency components) are unknown in real signal so cannot give exact number to the parameter\n",
        "*   when 2 mode frequencies are too close, VMD fails to differentiate them\n",
        "*   time consuming and highly depends on parameter initialization"
      ],
      "metadata": {
        "id": "XdLr9q3roEVF"
      }
    }
  ]
}